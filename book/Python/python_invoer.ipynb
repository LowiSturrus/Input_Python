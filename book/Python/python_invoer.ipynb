{
 "cells": [
  {
   "cell_type": "markdown",
   "metadata": {},
   "source": [
    "# Handmatige invoer variabelen\n",
    "\n",
    "Tot nu toe zijn we bezig geweest zonder ons druk te maken over de naamgeving van onze variabelen of onze code te voorzien van uitleg, zogenaamde meta-data. Het is een goede gewoonte om daar wel zorg aan te besteden, het de lezer - maar ook jezelf - makkelijk te maken door functies en variabelen zo te noemen dat ze makkelijk leesbaar zijn. Stukken code die lastiger te begrijpen zijn kun je voorzien van commentaar. Een \\# kun je gebruiken om commentaar toe te voegen.\n",
    "\n",
    "```{exercise}\n",
    "Lees de code in beide cellen. Welke code is makkelijker te volgen?\n",
    "```"
   ]
  },
  {
   "cell_type": "markdown",
   "metadata": {},
   "source": [
    "In de onderstaande programma worden de waarden van de variabelen 'a' en 'b' bij elkaar opgeteld."
   ]
  },
  {
   "cell_type": "code",
   "execution_count": null,
   "metadata": {},
   "outputs": [],
   "source": [
    "a = 9\n",
    "b = 3\n",
    "\n",
    "def s(a,b):\n",
    "    s = a+b\n",
    "    return print(s)\n",
    "\n",
    "s(a,b)"
   ]
  },
  {
   "cell_type": "markdown",
   "metadata": {},
   "source": [
    "Het zal vaak voorkomen dat je dezelfde berekening met steeds andere waarden voor de variablen wit uitvoeren. Dan is hrt handig om deze waarden handmatig te kunnen invoeren. Dat kan door gebruik te maken van het commando 'input', zoals in de cel hieronder is beschreven. Run de cel en kijk wat er gebeurd."
   ]
  },
  {
   "cell_type": "code",
   "execution_count": 1,
   "metadata": {},
   "outputs": [
    {
     "name": "stdout",
     "output_type": "stream",
     "text": [
      "De som van 3.2 + 4.9 =  8.1\n"
     ]
    }
   ],
   "source": [
    "# code om de som van twee getallen te berekenen ion standaard python\n",
    "getal_1 = float(input(f\"geef de waarde voor het eerste getal\"))\n",
    "getal_2 = float(input(f\"geef de waarde voor het tweede getal\"))\n",
    "# het input-commando levert in JupyterLite een variable van het type PyodideFuture. Dit kan niet worden omgezet in een float of een integer\n",
    "\n",
    "# functie om de som van twee getallen te berekenen\n",
    "def som(getal1,getal2):\n",
    "    return round(getal1 + getal2, 1)\n",
    "\n",
    "print(\"De som van\", getal_1, \"+\", getal_2, \"= \", som(getal_1,getal_2))"
   ]
  },
  {
   "cell_type": "markdown",
   "metadata": {},
   "source": [
    "Het bovenstaande programma werkt prima in Python 3.12, maar niet in Teachbook. Dit komt doordat Teachbook met een aPyodide-kernel werkt en deze kent het commando float(input()) niet. Eenoplossing kan worden gevonden met behulp van ipywidgets. In de volgende programma's gaan we op zoek naar een geschikte manier op dit probleem op te lossen."
   ]
  },
  {
   "cell_type": "code",
   "execution_count": 2,
   "metadata": {},
   "outputs": [
    {
     "name": "stdout",
     "output_type": "stream",
     "text": [
      "De som van 0.0 + 0.0 = 0.0\n"
     ]
    }
   ],
   "source": [
    "import ipywidgets as widgets\n",
    "from IPython.display import display\n",
    "\n",
    "# functie om de som van twee getallen te berekenen\n",
    "def som(getal1, getal2):\n",
    "    return round(getal1 + getal2, 1)\n",
    "\n",
    "# widgets voor input\n",
    "getal_1 = widgets.FloatText(description=\"Eerste getal:\")\n",
    "getal_2 = widgets.FloatText(description=\"Tweede getal:\")\n",
    "resultaat = som(getal_1.value, getal_2.value)\n",
    "print(f\"De som van {getal_1.value} + {getal_2.value} = {resultaat}\")\n",
    "\n"
   ]
  },
  {
   "cell_type": "markdown",
   "metadata": {},
   "source": [
    "In het bovenstaande script wacht het programma niet op de invoer van het eerste en tweede getal, maar gaat gelijk door naar het berekenen en printen van de variabele resultaat. Omdat er nog geen getallen zijn ingevoerd, heeft resutaat dan nog de waarde 0. "
   ]
  },
  {
   "cell_type": "code",
   "execution_count": 4,
   "metadata": {},
   "outputs": [
    {
     "data": {
      "application/vnd.jupyter.widget-view+json": {
       "model_id": "5fb5f76789b149309d84b77ef72ffc1b",
       "version_major": 2,
       "version_minor": 0
      },
      "text/plain": [
       "FloatText(value=0.0, description='Eerste getal:')"
      ]
     },
     "metadata": {},
     "output_type": "display_data"
    },
    {
     "data": {
      "application/vnd.jupyter.widget-view+json": {
       "model_id": "48b3b68a79f943cfa9ed418552bd5539",
       "version_major": 2,
       "version_minor": 0
      },
      "text/plain": [
       "FloatText(value=0.0, description='Tweede getal:')"
      ]
     },
     "metadata": {},
     "output_type": "display_data"
    },
    {
     "data": {
      "application/vnd.jupyter.widget-view+json": {
       "model_id": "82f57f526d1648539f262a51725a7b90",
       "version_major": 2,
       "version_minor": 0
      },
      "text/plain": [
       "Button(description='Bereken', style=ButtonStyle())"
      ]
     },
     "metadata": {},
     "output_type": "display_data"
    },
    {
     "name": "stdout",
     "output_type": "stream",
     "text": [
      "De som van 3.2 + 4.9 = 8.1\n"
     ]
    }
   ],
   "source": [
    "import ipywidgets as widgets\n",
    "from IPython.display import display\n",
    "\n",
    "# functie om de som van twee getallen te berekenen\n",
    "def som(getal1, getal2):\n",
    "    return round(getal1 + getal2, 1)\n",
    "\n",
    "# widgets voor input\n",
    "getal_1 = widgets.FloatText(description=\"Eerste getal:\")\n",
    "getal_2 = widgets.FloatText(description=\"Tweede getal:\")\n",
    "button = widgets.Button(description=\"Bereken\")\n",
    "\n",
    "# functie om de som te berekenen en weer te geven\n",
    "def bereken(b):\n",
    "    resultaat = som(getal_1.value, getal_2.value)\n",
    "    print(f\"De som van {getal_1.value} + {getal_2.value} = {resultaat}\")\n",
    "\n",
    "button.on_click(bereken)\n",
    "\n",
    "# display widgets\n",
    "display(getal_1, getal_2, button)"
   ]
  },
  {
   "cell_type": "markdown",
   "metadata": {},
   "source": [
    "Script vraagt wel gegevens op en geeft het goede resultaat, maar als er in Teachbook op de button 'Bereken' wordt gedrukt, gebeurter niets."
   ]
  },
  {
   "cell_type": "code",
   "execution_count": 5,
   "metadata": {},
   "outputs": [
    {
     "data": {
      "application/vnd.jupyter.widget-view+json": {
       "model_id": "cd498488fa3f4f038cc8835b89336fb3",
       "version_major": 2,
       "version_minor": 0
      },
      "text/plain": [
       "FloatText(value=0.0, description='Eerste getal:')"
      ]
     },
     "metadata": {},
     "output_type": "display_data"
    },
    {
     "data": {
      "application/vnd.jupyter.widget-view+json": {
       "model_id": "5e7adfd2200e4b13adf7d4d36f636a42",
       "version_major": 2,
       "version_minor": 0
      },
      "text/plain": [
       "FloatText(value=0.0, description='Tweede getal:')"
      ]
     },
     "metadata": {},
     "output_type": "display_data"
    },
    {
     "data": {
      "application/vnd.jupyter.widget-view+json": {
       "model_id": "e56166d36ec14890a228d304f2fa1886",
       "version_major": 2,
       "version_minor": 0
      },
      "text/plain": [
       "Output()"
      ]
     },
     "metadata": {},
     "output_type": "display_data"
    }
   ],
   "source": [
    "# Dit is de versie die het mooiste werkt. Het heeft namelijk geen button nodig om een resultaat te leveren. Door gebruik te maken van widgets werkt het ook in Teachbooks.\n",
    "\n",
    "import asyncio\n",
    "import ipywidgets as widgets\n",
    "from IPython.display import display, clear_output\n",
    "\n",
    "# functie om de som van twee getallen te berekenen\n",
    "def som(getal1, getal2):\n",
    "    return round(getal1 + getal2, 1)\n",
    "\n",
    "# widgets voor input\n",
    "getal_1 = widgets.FloatText(description=\"Eerste getal:\")\n",
    "getal_2 = widgets.FloatText(description=\"Tweede getal:\")\n",
    "output = widgets.Output()\n",
    "\n",
    "# functie om de som te berekenen en weer te geven\n",
    "def bereken(change):\n",
    "    with output:\n",
    "        clear_output(wait=True)\n",
    "        resultaat = som(getal_1.value, getal_2.value)\n",
    "        print(f\"De som van {getal_1.value} + {getal_2.value} = {resultaat}\")\n",
    "\n",
    "# asynchrone functie om input op te vragen\n",
    "async def vraag_input():\n",
    "    display(getal_1)\n",
    "    while getal_1.value is None:\n",
    "        await asyncio.sleep(0.1)\n",
    "    display(getal_2)\n",
    "    getal_2.observe(bereken, names='value')\n",
    "    display(output)\n",
    "    while getal_2.value is None:\n",
    "        await asyncio.sleep(0.1)\n",
    "\n",
    "# start de asynchrone input\n",
    "task = asyncio.ensure_future(vraag_input())\n",
    "\n",
    "# wacht tot de taak is voltooid\n",
    "await task"
   ]
  }
 ],
 "metadata": {
  "kernelspec": {
   "display_name": "Python 3",
   "language": "python",
   "name": "python3"
  },
  "language_info": {
   "codemirror_mode": {
    "name": "ipython",
    "version": 3
   },
   "file_extension": ".py",
   "mimetype": "text/x-python",
   "name": "python",
   "nbconvert_exporter": "python",
   "pygments_lexer": "ipython3",
   "version": "3.12.8"
  }
 },
 "nbformat": 4,
 "nbformat_minor": 2
}
